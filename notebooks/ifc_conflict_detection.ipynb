{
 "cells": [
  {
   "cell_type": "markdown",
   "id": "60782b51",
   "metadata": {},
   "source": [
    "# "
   ]
  },
  {
   "cell_type": "markdown",
   "id": "baa096b9",
   "metadata": {},
   "source": [
    "# Detecção de conflitos em projetos BIM usando grafos e ontologias\n",
    "\n",
    "## Introdução\n",
    "Este projeto tem como objetivo detectar conflitos em projetos BIM (Building Information Modeling) utilizando grafos e ontologias. A detecção de conflitos é uma etapa crucial no processo de planejamento e execução de projetos de construção, pois ajuda a identificar problemas potenciais em projetos antes que eles se tornem caros ou difíceis de resolver.\n",
    "\n",
    "## Tecnologias Utilizadas\n",
    "- **Python**: Linguagem de programação principal para o desenvolvimento do projeto.\n",
    "- **PyShacl**: Biblioteca para manipulação de grafos.\n",
    "- **RDFLib**: Biblioteca para trabalhar com grafos RDF (Resource Description Framework).\n",
    "- **Ontologia**: Definição de classes, propriedades e relações entre os elementos do projeto BIM.\n",
    "- **Neo4j**: Banco de dados orientado a grafos para armazenar e consultar os dados do projeto."
   ]
  },
  {
   "cell_type": "markdown",
   "id": "04a9954f",
   "metadata": {},
   "source": [
    "### Importando as bibliotecas necessárias"
   ]
  },
  {
   "cell_type": "code",
   "execution_count": 1,
   "id": "e5288e1d",
   "metadata": {},
   "outputs": [],
   "source": [
    "import ifcopenshell\n",
    "from rdflib import Graph, Namespace, URIRef, Literal, RDF, RDFS, OWL\n",
    "import re\n",
    "from rdflib.namespace import SH\n",
    "from pyshacl import validate\n",
    "from py2neo import Graph as Neo4jGraph, Node, Relationship"
   ]
  },
  {
   "cell_type": "markdown",
   "id": "834dcb2a",
   "metadata": {},
   "source": [
    "### Definindo Variáveis e constantes"
   ]
  },
  {
   "cell_type": "code",
   "execution_count": 2,
   "id": "a8746659",
   "metadata": {},
   "outputs": [],
   "source": [
    "IFC_FILE = \"../data/Building-Architecture.ifc\"\n",
    "model = ifcopenshell.open(IFC_FILE)\n",
    "produtos = model.by_type(\"IfcProduct\")\n",
    "\n",
    "NEO4J_URI = \"bolt://localhost:7687\"\n",
    "NEO4J_USER = \"neo4j\"\n",
    "NEO4J_PASSWORD = \"ifc123456\"\n",
    "NEO4J_DATABASE = \"ifctest\"\n",
    "\n",
    "IFC_NS = Namespace(\"http://example.org/ifc/\")\n",
    "PROP_NS = Namespace(\"http://example.org/ifc/property#\")\n",
    "SHACL_NS = Namespace(\"http://www.w3.org/ns/shacl#\")"
   ]
  },
  {
   "cell_type": "markdown",
   "id": "5d1d7c88",
   "metadata": {},
   "source": [
    "### Inicializando o grafo"
   ]
  },
  {
   "cell_type": "code",
   "execution_count": null,
   "id": "a251a497",
   "metadata": {},
   "outputs": [],
   "source": [
    "rdf_graph = Graph()\n",
    "rdf_graph.bind(\"ifc\", IFC_NS)\n",
    "rdf_graph.bind(\"prop\", PROP_NS)"
   ]
  },
  {
   "cell_type": "markdown",
   "id": "fa463e3e",
   "metadata": {},
   "source": [
    "### Carregando os dados do modelo IFC no neo4j\n",
    "\n",
    "os dados do modelo IFC serão carregados no banco de dados Neo4j, onde cada elemento do modelo será representado como um nó no grafo. As relações entre os elementos serão representadas como arestas."
   ]
  },
  {
   "cell_type": "code",
   "execution_count": null,
   "id": "085561fe",
   "metadata": {},
   "outputs": [],
   "source": []
  }
 ],
 "metadata": {
  "kernelspec": {
   "display_name": "env",
   "language": "python",
   "name": "python3"
  },
  "language_info": {
   "codemirror_mode": {
    "name": "ipython",
    "version": 3
   },
   "file_extension": ".py",
   "mimetype": "text/x-python",
   "name": "python",
   "nbconvert_exporter": "python",
   "pygments_lexer": "ipython3",
   "version": "3.11.9"
  }
 },
 "nbformat": 4,
 "nbformat_minor": 5
}
