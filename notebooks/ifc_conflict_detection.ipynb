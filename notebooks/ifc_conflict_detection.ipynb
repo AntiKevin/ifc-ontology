{
 "cells": [
  {
   "cell_type": "markdown",
   "id": "60782b51",
   "metadata": {},
   "source": [
    "# "
   ]
  },
  {
   "cell_type": "markdown",
   "id": "baa096b9",
   "metadata": {},
   "source": [
    "# Detecção de conflitos em projetos BIM usando grafos e ontologias\n",
    "\n",
    "## Introdução\n",
    "Este projeto tem como objetivo detectar conflitos em projetos BIM (Building Information Modeling) utilizando grafos e ontologias. A detecção de conflitos é uma etapa crucial no processo de planejamento e execução de projetos de construção, pois ajuda a identificar problemas potenciais em projetos antes que eles se tornem caros ou difíceis de resolver.\n",
    "\n",
    "## Tecnologias Utilizadas\n",
    "- **Python**: Linguagem de programação principal para o desenvolvimento do projeto.\n",
    "- **PyShacl**: Biblioteca para manipulação de grafos.\n",
    "- **RDFLib**: Biblioteca para trabalhar com grafos RDF (Resource Description Framework).\n",
    "- **Ontologia**: Definição de classes, propriedades e relações entre os elementos do projeto BIM.\n",
    "- **Neo4j**: Banco de dados orientado a grafos para armazenar e consultar os dados do projeto."
   ]
  },
  {
   "cell_type": "markdown",
   "id": "04a9954f",
   "metadata": {},
   "source": [
    "### Importando as bibliotecas necessárias"
   ]
  },
  {
   "cell_type": "code",
   "execution_count": 1,
   "id": "e5288e1d",
   "metadata": {},
   "outputs": [],
   "source": [
    "import ifcopenshell\n",
    "from rdflib import Graph, Namespace, URIRef, Literal, RDF, RDFS, OWL\n",
    "import re\n",
    "from rdflib.namespace import SH\n",
    "from pyshacl import validate\n",
    "from py2neo import Graph as Neo4jGraph, Node, Relationship"
   ]
  },
  {
   "cell_type": "markdown",
   "id": "834dcb2a",
   "metadata": {},
   "source": [
    "### Definindo Variáveis e constantes"
   ]
  },
  {
   "cell_type": "code",
   "execution_count": 2,
   "id": "a8746659",
   "metadata": {},
   "outputs": [],
   "source": [
    "IFC_FILE = \"../data/Building-Architecture.ifc\"\n",
    "model = ifcopenshell.open(IFC_FILE)\n",
    "produtos = model.by_type(\"IfcProduct\")\n",
    "\n",
    "NEO4J_URI = \"bolt://localhost:7687\"\n",
    "NEO4J_USER = \"neo4j\"\n",
    "NEO4J_PASSWORD = \"ifc123456\"\n",
    "NEO4J_DATABASE = \"ifctest\"\n",
    "\n",
    "IFC_NS = Namespace(\"http://example.org/ifc/\")\n",
    "PROP_NS = Namespace(\"http://example.org/ifc/property#\")\n",
    "SHACL_NS = Namespace(\"http://www.w3.org/ns/shacl#\")"
   ]
  },
  {
   "cell_type": "markdown",
   "id": "5d1d7c88",
   "metadata": {},
   "source": [
    "### Inicializando o grafo"
   ]
  },
  {
   "cell_type": "code",
   "execution_count": 3,
   "id": "a251a497",
   "metadata": {},
   "outputs": [],
   "source": [
    "rdf_graph = Graph()\n",
    "rdf_graph.bind(\"ifc\", IFC_NS)\n",
    "rdf_graph.bind(\"prop\", PROP_NS)"
   ]
  },
  {
   "cell_type": "markdown",
   "id": "fa463e3e",
   "metadata": {},
   "source": [
    "### Carregando os dados do modelo IFC no neo4j\n",
    "\n",
    "os dados do modelo IFC serão carregados no banco de dados Neo4j, onde cada elemento do modelo será representado como um nó no grafo. As relações entre os elementos serão representadas como arestas."
   ]
  },
  {
   "cell_type": "code",
   "execution_count": 4,
   "id": "085561fe",
   "metadata": {},
   "outputs": [],
   "source": [
    "neo4j_graph = Neo4jGraph(\n",
    "    uri=NEO4J_URI,\n",
    "    auth=(NEO4J_USER, NEO4J_PASSWORD),\n",
    ")\n",
    "\n",
    "# Limpar o grafo Neo4j antes de inserir novos dados\n",
    "neo4j_graph.delete_all()\n",
    "\n",
    "# Função auxiliar para converter GlobalId para URI\n",
    "def globalid_to_uri(global_id):\n",
    "    return URIRef(IFC_NS[global_id])\n",
    "\n",
    "# Função para adicionar entidades ao grafo Neo4j\n",
    "def add_entity_to_neo4j(entity):\n",
    "    uri = globalid_to_uri(entity.GlobalId)\n",
    "    node = Node(\"IfcProduct\", global_id=entity.GlobalId, name=entity.Name or \"\")\n",
    "    neo4j_graph.create(node)\n",
    "    \n",
    "    for key, value in entity.get_info(recursive=False).items():\n",
    "        if key not in ['GlobalId', 'OwnerHistory', 'Name', 'type']:\n",
    "            if isinstance(value, ifcopenshell.entity_instance):\n",
    "                # Only create relationship if the referenced entity has a GlobalId\n",
    "                if hasattr(value, \"GlobalId\") and value.GlobalId:\n",
    "                    rel = Relationship(node, key, Node(\"IfcProduct\", global_id=value.GlobalId))\n",
    "                    neo4j_graph.create(rel)\n",
    "            elif isinstance(value, (list, tuple)):\n",
    "                for item in value:\n",
    "                    if isinstance(item, ifcopenshell.entity_instance):\n",
    "                        if hasattr(item, \"GlobalId\") and item.GlobalId:\n",
    "                            rel = Relationship(node, key, Node(\"IfcProduct\", global_id=item.GlobalId))\n",
    "                            neo4j_graph.create(rel)\n",
    "                        \n",
    "for produto in produtos:\n",
    "    if not produto.GlobalId:\n",
    "        continue\n",
    "    add_entity_to_neo4j(produto)"
   ]
  },
  {
   "cell_type": "markdown",
   "id": "6e7bd010",
   "metadata": {},
   "source": [
    "### Populando entidades e propriedades Basicas no grafo do RDF\n",
    "Nesta etapa, serão criadas as entidades e propriedades básicas no grafo RDF, representando os elementos do projeto BIM. Isso inclui a definição de classes para diferentes tipos de elementos, como paredes, portas, janelas, etc., e suas propriedades associadas."
   ]
  },
  {
   "cell_type": "code",
   "execution_count": 5,
   "id": "a3c2b0e2",
   "metadata": {},
   "outputs": [],
   "source": [
    "def populate_rdf_graph():\n",
    "    for element in produtos:\n",
    "        if not element.GlobalId:\n",
    "            continue\n",
    "            \n",
    "        uri = URIRef(IFC_NS[element.GlobalId])\n",
    "        \n",
    "        rdf_graph.add((uri, RDF.type, URIRef(IFC_NS[element.is_a()])))\n",
    "        \n",
    "        if element.Name:\n",
    "            rdf_graph.add((uri, IFC_NS[\"name\"], Literal(element.Name)))\n",
    "        \n",
    "        # Adicionar propriedades de relacionamento\n",
    "        info = element.get_info(recursive=False)\n",
    "        for key, value in info.items():\n",
    "            if key in ['GlobalId', 'OwnerHistory', 'Name', 'type']:\n",
    "                continue\n",
    "                \n",
    "            if isinstance(value, ifcopenshell.entity_instance):\n",
    "                if value.is_a(\"IfcProduct\"):\n",
    "                    ref_uri = URIRef(IFC_NS[value.GlobalId])\n",
    "                    rdf_graph.add((uri, PROP_NS[key], ref_uri))\n",
    "                    \n",
    "            elif isinstance(value, (list, tuple)):\n",
    "                for item in value:\n",
    "                    if isinstance(item, ifcopenshell.entity_instance) and item.is_a(\"IfcProduct\"):\n",
    "                        ref_uri = URIRef(IFC_NS[item.GlobalId])\n",
    "                        rdf_graph.add((uri, PROP_NS[key], ref_uri))\n",
    "\n",
    "populate_rdf_graph()"
   ]
  },
  {
   "cell_type": "markdown",
   "id": "01d19afc",
   "metadata": {},
   "source": [
    "## Introdução ao SHACL\n",
    "SHACL (Shapes Constraint Language) é uma linguagem para descrever restrições de **forma** em grafos RDF. Ela permite definir regras que os dados devem seguir, facilitando a validação e a detecção de conflitos.\n",
    "\n",
    "### Definindo as formas SHACL\n",
    "\n",
    "- Regra 1: Paredes devem estar contidas em estruturas espaciais\n",
    "- Regra 2: Portas devem ser instaladas em paredes\n",
    "- Regra 3: Pisos devem ter relações com edificações\n",
    "- Regra 4: Relações espaciais devem ter tipos válidos"
   ]
  },
  {
   "cell_type": "code",
   "execution_count": 6,
   "id": "f2c896b5",
   "metadata": {},
   "outputs": [],
   "source": [
    "shacl_shapes = f\"\"\"\n",
    "@prefix rdf: <http://www.w3.org/1999/02/22-rdf-syntax-ns#> .\n",
    "@prefix rdfs: <http://www.w3.org/2000/01/rdf-schema#> .\n",
    "@prefix sh: <{SH}> .\n",
    "@prefix ifc: <{IFC_NS}> .\n",
    "@prefix prop: <{PROP_NS}> .\n",
    "\n",
    "# Regra 1: Paredes devem estar contidas em estruturas espaciais\n",
    "ifc:WallContainmentRule\n",
    "    a sh:NodeShape ;\n",
    "    sh:targetClass ifc:IfcWall ;\n",
    "    sh:property [\n",
    "        sh:path prop:ContainedInStructure ;\n",
    "        sh:class ifc:IfcSpatialStructureElement ;\n",
    "        sh:minCount 1 ;\n",
    "        sh:maxCount 1 ;\n",
    "        sh:message \"Paredes devem estar contidas em exatamente uma estrutura espacial (andar/edifício)\" ;\n",
    "    ] .\n",
    "\n",
    "# Regra 2: Portas devem ser instaladas em paredes\n",
    "ifc:DoorInstallationRule\n",
    "    a sh:NodeShape ;\n",
    "    sh:targetClass ifc:IfcDoor ;\n",
    "    sh:property [\n",
    "        sh:path prop:FillsVoids ;\n",
    "        sh:class ifc:IfcWall ;\n",
    "        sh:minCount 1 ;\n",
    "        sh:message \"Portas devem ser instaladas em paredes\" ;\n",
    "    ] .\n",
    "\n",
    "# Regra 3: Pisos devem ter relações com edificações\n",
    "ifc:SlabContainmentRule\n",
    "    a sh:NodeShape ;\n",
    "    sh:targetClass ifc:IfcSlab ;\n",
    "    sh:property [\n",
    "        sh:path prop:ContainedInStructure ;\n",
    "        sh:class ifc:IfcBuilding ;\n",
    "        sh:minCount 1 ;\n",
    "        sh:message \"Pisos devem estar contidos em edificações\" ;\n",
    "    ] .\n",
    "\n",
    "# Regra 4: Relações espaciais devem ter tipos válidos\n",
    "ifc:ValidRelationRule\n",
    "    a sh:PropertyShape ;\n",
    "    sh:path prop:RelatingSpace ;\n",
    "    sh:class ifc:IfcSpace ;\n",
    "    sh:message \"Elementos só podem relacionar-se com espaços válidos\" .\n",
    "\n",
    "# TODO: Adicionar regras adicionais conforme necessário\n",
    "# TODO: REgra 5: Elementos de construção devem ter propriedades definidas\n",
    "# TODO: Regra 6: Janelas devem estar instaladas em paredes\n",
    "# TODO: Regra 7: Tetos devem estar contidos em edificações\n",
    "\"\"\""
   ]
  },
  {
   "cell_type": "markdown",
   "id": "34d25f4a",
   "metadata": {},
   "source": [
    "### Validando o Grafo com as regras SHACL\n",
    "A validação do grafo com as regras SHACL é realizada para verificar se os dados do projeto BIM atendem às restrições definidas. Isso ajuda a identificar conflitos e inconsistências nos dados."
   ]
  },
  {
   "cell_type": "code",
   "execution_count": null,
   "id": "dabb8367",
   "metadata": {},
   "outputs": [],
   "source": [
    "shacl_graph = Graph().parse(data=shacl_shapes, format=\"turtle\")\n",
    "conforms, results_graph, results_text = validate(\n",
    "    rdf_graph,\n",
    "    shacl_graph=shacl_graph,\n",
    "    ont_graph=None,\n",
    "    inference='rdfs',\n",
    "    abort_on_first=False,\n",
    "    meta_shacl=False,\n",
    "    advanced=True,\n",
    "    debug=False\n",
    ")"
   ]
  },
  {
   "cell_type": "code",
   "execution_count": null,
   "id": "3dc20dd9",
   "metadata": {},
   "outputs": [
    {
     "name": "stdout",
     "output_type": "stream",
     "text": [
      "\n",
      "==================================================\n",
      "Resultado da Validação de Conformidade\n",
      "==================================================\n",
      "Foram encontrados 67 conflitos ontológicos:\n",
      "\n",
      "Conflito #1:\n",
      "Elemento: http://example.org/ifc/3zR0BOEcLADRKln4HYporH\n",
      "Mensagem: Pisos devem estar contidos em edificações\n",
      "Propriedade: http://example.org/ifc/property#ContainedInStructure\n",
      "Severidade: Violação\n",
      "\n",
      "Conflito #2:\n",
      "Elemento: http://example.org/ifc/12UVOn4wvAJPMUExKdZLb8\n",
      "Mensagem: Pisos devem estar contidos em edificações\n",
      "Propriedade: http://example.org/ifc/property#ContainedInStructure\n",
      "Severidade: Violação\n",
      "\n",
      "Conflito #3:\n",
      "Elemento: http://example.org/ifc/0ZTBBPo6f6bxqV2K7Oelrq\n",
      "Mensagem: Pisos devem estar contidos em edificações\n",
      "Propriedade: http://example.org/ifc/property#ContainedInStructure\n",
      "Severidade: Violação\n",
      "\n",
      "Conflito #4:\n",
      "Elemento: http://example.org/ifc/0OfZwWc8j9QP5uX8xPTxDH\n",
      "Mensagem: Paredes devem estar contidas em exatamente uma estrutura espacial (andar/edifício)\n",
      "Propriedade: http://example.org/ifc/property#ContainedInStructure\n",
      "Severidade: Violação\n",
      "\n",
      "Conflito #5:\n",
      "Elemento: http://example.org/ifc/1AQAupaRP1txwK1AGiN61V\n",
      "Mensagem: Paredes devem estar contidas em exatamente uma estrutura espacial (andar/edifício)\n",
      "Propriedade: http://example.org/ifc/property#ContainedInStructure\n",
      "Severidade: Violação\n",
      "\n",
      "Conflito #6:\n",
      "Elemento: http://example.org/ifc/3wdauVJT5Fx9drrREiDqA$\n",
      "Mensagem: Paredes devem estar contidas em exatamente uma estrutura espacial (andar/edifício)\n",
      "Propriedade: http://example.org/ifc/property#ContainedInStructure\n",
      "Severidade: Violação\n",
      "\n",
      "Conflito #7:\n",
      "Elemento: http://example.org/ifc/1uS5vfZPn9R8PlAaVd73on\n",
      "Mensagem: Paredes devem estar contidas em exatamente uma estrutura espacial (andar/edifício)\n",
      "Propriedade: http://example.org/ifc/property#ContainedInStructure\n",
      "Severidade: Violação\n",
      "\n",
      "Validação concluída. Relatório salvo em 'validation_report.txt'\n"
     ]
    }
   ],
   "source": [
    "print(\"\\n\" + \"=\"*50)\n",
    "print(\"Resultado da Validação de Conformidade\")\n",
    "print(\"=\"*50)\n",
    "\n",
    "if conforms:\n",
    "    print(\"Nenhum conflito detectado: O modelo está em conformidade com a ontologia\")\n",
    "else:\n",
    "    print(f\"Foram encontrados {len(results_graph)} conflitos ontológicos:\")\n",
    "    \n",
    "    conflicts = []\n",
    "    for s in results_graph.subjects(SH.resultSeverity, SH.Violation):\n",
    "        conflict = {\n",
    "            \"element\": results_graph.value(s, SH.focusNode),\n",
    "            \"message\": results_graph.value(s, SH.resultMessage),\n",
    "            \"path\": results_graph.value(s, SH.resultPath),\n",
    "            \"severity\": \"Violação\"\n",
    "        }\n",
    "        conflicts.append(conflict)\n",
    "        \n",
    "    for i, conflict in enumerate(conflicts, 1):\n",
    "        print(f\"\\nConflito #{i}:\")\n",
    "        print(f\"Elemento: {conflict['element']}\")\n",
    "        print(f\"Mensagem: {conflict['message']}\")\n",
    "        print(f\"Propriedade: {conflict['path']}\")\n",
    "        print(f\"Severidade: {conflict['severity']}\")\n",
    "\n",
    "# rdf_graph.serialize(\"ifc_graph.ttl\", format=\"turtle\")\n",
    "# with open(\"validation_report.txt\", \"w\") as f:\n",
    "#     f.write(results_text)\n",
    "\n",
    "print(\"\\nValidação concluída. Relatório salvo em 'validation_report.txt'\")"
   ]
  }
 ],
 "metadata": {
  "kernelspec": {
   "display_name": "env",
   "language": "python",
   "name": "python3"
  },
  "language_info": {
   "codemirror_mode": {
    "name": "ipython",
    "version": 3
   },
   "file_extension": ".py",
   "mimetype": "text/x-python",
   "name": "python",
   "nbconvert_exporter": "python",
   "pygments_lexer": "ipython3",
   "version": "3.11.9"
  }
 },
 "nbformat": 4,
 "nbformat_minor": 5
}
